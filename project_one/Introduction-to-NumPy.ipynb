{
 "cells": [
  {
   "cell_type": "markdown",
   "id": "2418e7fa-51f1-48b7-ad18-c2ca9c200e31",
   "metadata": {},
   "source": [
    "## NumPy \n",
    "\n",
    "- NumPy stands for numerical python - Turns data into a series of numbers. Machines only understand numbers. It offers fast computation on arrays and lists.\n",
    "- Fast due to a process called vectorization which aims to do calculations by avoiding loops.\n",
    "- Vectorization is achieved by broadcasting(How numpy handles arrays with different shapes)"
   ]
  },
  {
   "cell_type": "code",
   "execution_count": 1,
   "id": "fc0f5bbe-0359-4e62-9fab-d455c98fb080",
   "metadata": {},
   "outputs": [],
   "source": [
    "import numpy as np"
   ]
  },
  {
   "cell_type": "markdown",
   "id": "16da4440-0242-4f86-81af-7e170301607d",
   "metadata": {},
   "source": [
    "## 1. Datatypes and attributes\n",
    "- one dimension array - vector\n",
    "- more than one array - matrix ie a2, a3"
   ]
  },
  {
   "cell_type": "code",
   "execution_count": 6,
   "id": "bf0fa663-aad6-48b7-b402-cd7791044a6d",
   "metadata": {},
   "outputs": [],
   "source": [
    "# Create a 1-dimensional NumPy array using np.array() - which is also called a vector \n",
    "a1 = np.array([1,2,3])\n",
    "\n",
    "# Create a 2-dimensional NumPy array using np.array()\n",
    "a2 = np.array([[2,3,4],[5,6,7]])\n",
    "\n",
    "# Create a 3-dimensional Numpy array using np.array()\n",
    "a3 = np.array([[[1,2,3],\n",
    "                [4,5,6],\n",
    "                [7,8,9]],[[10,11,12],\n",
    "                          [13,14,15],\n",
    "                          [16,17,18]]])"
   ]
  },
  {
   "cell_type": "code",
   "execution_count": 8,
   "id": "b1fb78da-fee8-4e92-9a0d-e3baabcf8bc8",
   "metadata": {},
   "outputs": [
    {
     "data": {
      "text/plain": [
       "((3,), 1, 3, numpy.ndarray)"
      ]
     },
     "execution_count": 8,
     "metadata": {},
     "output_type": "execute_result"
    }
   ],
   "source": [
    "# Attributes of 1-dimensional array (shape, \n",
    "# number of dimensions, data type, size and type)\n",
    "a1.shape, a1.ndim, a1.size, type(a1)"
   ]
  },
  {
   "cell_type": "code",
   "execution_count": 9,
   "id": "d16971b8-35c5-4603-a08c-e10cc63d171c",
   "metadata": {},
   "outputs": [
    {
     "data": {
      "text/plain": [
       "((2, 3), 2, 6, numpy.ndarray)"
      ]
     },
     "execution_count": 9,
     "metadata": {},
     "output_type": "execute_result"
    }
   ],
   "source": [
    "# a2\n",
    "a2.shape, a2.ndim, a2.size , type(a2)"
   ]
  },
  {
   "cell_type": "code",
   "execution_count": 10,
   "id": "44b3f81a-9536-4d6d-9f71-fa320da28c64",
   "metadata": {},
   "outputs": [
    {
     "data": {
      "text/plain": [
       "((2, 3, 3), 3, 18, numpy.ndarray)"
      ]
     },
     "execution_count": 10,
     "metadata": {},
     "output_type": "execute_result"
    }
   ],
   "source": [
    "#a3\n",
    "a3.shape, a3.ndim, a3.size, type(a3)"
   ]
  },
  {
   "cell_type": "code",
   "execution_count": 11,
   "id": "de77da35-e09b-4a42-a556-68fad2bac2ea",
   "metadata": {},
   "outputs": [
    {
     "data": {
      "text/html": [
       "<div>\n",
       "<style scoped>\n",
       "    .dataframe tbody tr th:only-of-type {\n",
       "        vertical-align: middle;\n",
       "    }\n",
       "\n",
       "    .dataframe tbody tr th {\n",
       "        vertical-align: top;\n",
       "    }\n",
       "\n",
       "    .dataframe thead th {\n",
       "        text-align: right;\n",
       "    }\n",
       "</style>\n",
       "<table border=\"1\" class=\"dataframe\">\n",
       "  <thead>\n",
       "    <tr style=\"text-align: right;\">\n",
       "      <th></th>\n",
       "      <th>0</th>\n",
       "      <th>1</th>\n",
       "      <th>2</th>\n",
       "    </tr>\n",
       "  </thead>\n",
       "  <tbody>\n",
       "    <tr>\n",
       "      <th>0</th>\n",
       "      <td>2</td>\n",
       "      <td>3</td>\n",
       "      <td>4</td>\n",
       "    </tr>\n",
       "    <tr>\n",
       "      <th>1</th>\n",
       "      <td>5</td>\n",
       "      <td>6</td>\n",
       "      <td>7</td>\n",
       "    </tr>\n",
       "  </tbody>\n",
       "</table>\n",
       "</div>"
      ],
      "text/plain": [
       "   0  1  2\n",
       "0  2  3  4\n",
       "1  5  6  7"
      ]
     },
     "execution_count": 11,
     "metadata": {},
     "output_type": "execute_result"
    }
   ],
   "source": [
    "# You can create a Pandas DataFrame out of the arrays \n",
    "import pandas as pd\n",
    "df = pd.DataFrame(a2)\n",
    "df"
   ]
  },
  {
   "cell_type": "markdown",
   "id": "31953253-3267-40a5-b28c-f4cd460de78c",
   "metadata": {},
   "source": [
    "## 2. Creating arrays\n",
    "- `np.array()`\n",
    "- `np.ones()`\n",
    "- `np.zeros()`\n",
    "- `np.arange()`\n",
    "- `np.random.randint(10, size=())`\n",
    "- `np.random.seed()`- creates pseudo random numbers"
   ]
  },
  {
   "cell_type": "code",
   "execution_count": 13,
   "id": "b6299330-415d-40d3-bab4-4cc319887f70",
   "metadata": {},
   "outputs": [
    {
     "data": {
      "text/plain": [
       "array([[1., 1.],\n",
       "       [1., 1.],\n",
       "       [1., 1.],\n",
       "       [1., 1.],\n",
       "       [1., 1.],\n",
       "       [1., 1.],\n",
       "       [1., 1.],\n",
       "       [1., 1.],\n",
       "       [1., 1.],\n",
       "       [1., 1.]])"
      ]
     },
     "execution_count": 13,
     "metadata": {},
     "output_type": "execute_result"
    }
   ],
   "source": [
    "# Create an array of shape (10, 2) with only ones\n",
    "ones = np.ones((10,2))\n",
    "ones"
   ]
  },
  {
   "cell_type": "code",
   "execution_count": 15,
   "id": "17c0bd51-d638-4118-9921-cfc903bbb398",
   "metadata": {},
   "outputs": [
    {
     "data": {
      "text/plain": [
       "array([[[0., 0., 0.],\n",
       "        [0., 0., 0.]],\n",
       "\n",
       "       [[0., 0., 0.],\n",
       "        [0., 0., 0.]],\n",
       "\n",
       "       [[0., 0., 0.],\n",
       "        [0., 0., 0.]],\n",
       "\n",
       "       [[0., 0., 0.],\n",
       "        [0., 0., 0.]],\n",
       "\n",
       "       [[0., 0., 0.],\n",
       "        [0., 0., 0.]],\n",
       "\n",
       "       [[0., 0., 0.],\n",
       "        [0., 0., 0.]],\n",
       "\n",
       "       [[0., 0., 0.],\n",
       "        [0., 0., 0.]]])"
      ]
     },
     "execution_count": 15,
     "metadata": {},
     "output_type": "execute_result"
    }
   ],
   "source": [
    "#Create an array of shape (7, 2, 3) of only zeros\n",
    "zeros = np.zeros((7,2,3))\n",
    "zeros"
   ]
  },
  {
   "cell_type": "code",
   "execution_count": 16,
   "id": "71f3c46e-5dd7-4226-a2f4-433ed4dc2e4e",
   "metadata": {},
   "outputs": [
    {
     "data": {
      "text/plain": [
       "array([ 0,  3,  6,  9, 12, 15, 18, 21, 24, 27, 30, 33, 36, 39, 42, 45, 48,\n",
       "       51, 54, 57, 60, 63, 66, 69, 72, 75, 78, 81, 84, 87, 90, 93, 96, 99])"
      ]
     },
     "execution_count": 16,
     "metadata": {},
     "output_type": "execute_result"
    }
   ],
   "source": [
    "# Create an array within a range of 0 and 100 with step 3\n",
    "range_array = np.arange(0,100,3) #start, end , step\n",
    "range_array "
   ]
  },
  {
   "cell_type": "code",
   "execution_count": 18,
   "id": "798229b8-e17f-4b73-881a-40b57aff8d60",
   "metadata": {},
   "outputs": [
    {
     "data": {
      "text/plain": [
       "array([[3, 7],\n",
       "       [2, 2],\n",
       "       [2, 2],\n",
       "       [8, 3],\n",
       "       [4, 7],\n",
       "       [4, 2],\n",
       "       [1, 5]])"
      ]
     },
     "execution_count": 18,
     "metadata": {},
     "output_type": "execute_result"
    }
   ],
   "source": [
    "# Create a random array with numbers between 0 and 10 of size (7, 2)\n",
    "random_array = np.random.randint(10, size=(7,2))\n",
    "random_array"
   ]
  },
  {
   "cell_type": "code",
   "execution_count": 21,
   "id": "6c8060d2-5f63-4691-a161-0452b410abdb",
   "metadata": {},
   "outputs": [
    {
     "data": {
      "text/plain": [
       "array([[0.86622444, 0.76896008, 0.92040175, 0.35970037, 0.5958222 ],\n",
       "       [0.54113857, 0.73605153, 0.86975828, 0.43421621, 0.39049023],\n",
       "       [0.50391315, 0.68460968, 0.16825278, 0.40369221, 0.81053403]])"
      ]
     },
     "execution_count": 21,
     "metadata": {},
     "output_type": "execute_result"
    }
   ],
   "source": [
    " #Create a random array of floats between 0 & 1 of shape (3, 5)\n",
    "float_array = np.random.random((3,5)) #also np.random.rand\n",
    "float_array"
   ]
  },
  {
   "cell_type": "code",
   "execution_count": 24,
   "id": "b291ecf0-f77f-4a8a-ba7d-be991a8247ff",
   "metadata": {},
   "outputs": [
    {
     "data": {
      "text/plain": [
       "array([[6, 3, 7, 4, 6, 9],\n",
       "       [2, 6, 7, 4, 3, 7],\n",
       "       [7, 2, 5, 4, 1, 7],\n",
       "       [5, 1, 4, 0, 9, 5]])"
      ]
     },
     "execution_count": 24,
     "metadata": {},
     "output_type": "execute_result"
    }
   ],
   "source": [
    "# Set the random seed to 42\n",
    "np.random.seed(42)\n",
    "\n",
    "# Create a random array of numbers between 0 & 10 of size (4, 6)\n",
    "np.random.randint(10, size=(4,6))"
   ]
  },
  {
   "cell_type": "markdown",
   "id": "6565d891-3d17-4b32-accc-d122660d1366",
   "metadata": {},
   "source": [
    "How to find unique values in an array"
   ]
  },
  {
   "cell_type": "code",
   "execution_count": 32,
   "id": "5ff0d836-bfcf-4053-8b7f-86a69017ca3a",
   "metadata": {},
   "outputs": [
    {
     "data": {
      "text/plain": [
       "array([[2, 4, 3],\n",
       "       [5, 1, 8]])"
      ]
     },
     "execution_count": 32,
     "metadata": {},
     "output_type": "execute_result"
    }
   ],
   "source": [
    "a4 = np.array([[2,4,3],[5,1,8]])\n",
    "a4"
   ]
  },
  {
   "cell_type": "code",
   "execution_count": 33,
   "id": "560e1906-295a-42eb-8943-adbd3ee5395c",
   "metadata": {},
   "outputs": [
    {
     "data": {
      "text/plain": [
       "array([1, 2, 3, 4, 5, 8])"
      ]
     },
     "execution_count": 33,
     "metadata": {},
     "output_type": "execute_result"
    }
   ],
   "source": [
    "np.unique(a4) # returns unique elements in an array sorted"
   ]
  },
  {
   "cell_type": "markdown",
   "id": "cf5f9eb3-0e69-43c1-8552-b6f532a26c30",
   "metadata": {},
   "source": [
    "## 3. Viewing arrays and matrices(indexing)"
   ]
  },
  {
   "cell_type": "code",
   "execution_count": 34,
   "id": "f38a67a0-2175-4f71-8c30-96021619d318",
   "metadata": {},
   "outputs": [
    {
     "data": {
      "text/plain": [
       "array([2, 4, 3])"
      ]
     },
     "execution_count": 34,
     "metadata": {},
     "output_type": "execute_result"
    }
   ],
   "source": [
    "# Find the 0'th index of a4 array \n",
    "a4[0]"
   ]
  },
  {
   "cell_type": "code",
   "execution_count": 37,
   "id": "009af889-5e22-40c3-9b2b-04168e6aabd4",
   "metadata": {},
   "outputs": [
    {
     "data": {
      "text/plain": [
       "array([[2, 4, 3],\n",
       "       [5, 1, 8]])"
      ]
     },
     "execution_count": 37,
     "metadata": {},
     "output_type": "execute_result"
    }
   ],
   "source": [
    "# Get the first two rows \n",
    "a4[:2]"
   ]
  },
  {
   "cell_type": "code",
   "execution_count": 38,
   "id": "11187c71-016a-4f2a-839a-022ddd2bc184",
   "metadata": {},
   "outputs": [
    {
     "data": {
      "text/plain": [
       "array([[2, 4, 3],\n",
       "       [5, 1, 8]])"
      ]
     },
     "execution_count": 38,
     "metadata": {},
     "output_type": "execute_result"
    }
   ],
   "source": [
    "# Get the first 2 values of the first 2 rows \n",
    "a4[:2]"
   ]
  },
  {
   "cell_type": "markdown",
   "id": "927b2593-7aee-4189-819a-fb20a7b1ca6f",
   "metadata": {},
   "source": [
    "## 4. Manipulating arrays"
   ]
  },
  {
   "cell_type": "markdown",
   "id": "af794cf1-dee6-4466-b328-03658aa42f9d",
   "metadata": {},
   "source": [
    "Addition"
   ]
  },
  {
   "cell_type": "code",
   "execution_count": 51,
   "id": "2e7aa016-7f79-45a5-b3f8-aade5579ad16",
   "metadata": {},
   "outputs": [],
   "source": [
    "# Create a random array of numbers between 0 & 10 and an array of ones  both of size (3, 5)\n",
    "random_arr = np.random.randint(10, size=(3,5))\n",
    "ones_arr = np.ones((3,5))\n"
   ]
  },
  {
   "cell_type": "code",
   "execution_count": 52,
   "id": "51976f3e-e596-4e9f-b53b-da34c9312eff",
   "metadata": {},
   "outputs": [
    {
     "data": {
      "text/plain": [
       "array([[7, 1, 0, 6, 6],\n",
       "       [7, 4, 2, 7, 5],\n",
       "       [2, 0, 2, 4, 2]])"
      ]
     },
     "execution_count": 52,
     "metadata": {},
     "output_type": "execute_result"
    }
   ],
   "source": [
    "random_arr"
   ]
  },
  {
   "cell_type": "code",
   "execution_count": 53,
   "id": "5c7c7250-ffc3-4b53-9e71-5eeb32392f38",
   "metadata": {},
   "outputs": [
    {
     "data": {
      "text/plain": [
       "array([[1., 1., 1., 1., 1.],\n",
       "       [1., 1., 1., 1., 1.],\n",
       "       [1., 1., 1., 1., 1.]])"
      ]
     },
     "execution_count": 53,
     "metadata": {},
     "output_type": "execute_result"
    }
   ],
   "source": [
    "ones_arr"
   ]
  },
  {
   "cell_type": "code",
   "execution_count": 54,
   "id": "3e315933-a19a-436e-84aa-6a657da2f411",
   "metadata": {},
   "outputs": [
    {
     "data": {
      "text/plain": [
       "array([[8., 2., 1., 7., 7.],\n",
       "       [8., 5., 3., 8., 6.],\n",
       "       [3., 1., 3., 5., 3.]])"
      ]
     },
     "execution_count": 54,
     "metadata": {},
     "output_type": "execute_result"
    }
   ],
   "source": [
    "# Add the two arrays together\n",
    "n1 = random_arr + ones_arr\n",
    "n1"
   ]
  },
  {
   "cell_type": "code",
   "execution_count": 55,
   "id": "58290ada-d07e-4eba-b14e-0061371d9dcd",
   "metadata": {},
   "outputs": [
    {
     "data": {
      "text/plain": [
       "(array([[1., 1., 1.],\n",
       "        [1., 1., 1.],\n",
       "        [1., 1., 1.],\n",
       "        [1., 1., 1.],\n",
       "        [1., 1., 1.]]),\n",
       " (5, 3))"
      ]
     },
     "execution_count": 55,
     "metadata": {},
     "output_type": "execute_result"
    }
   ],
   "source": [
    "# Create another array of ones of shape (5, 3)\n",
    "a5 = np.ones((5,3))\n",
    "a5, a5.shape"
   ]
  },
  {
   "cell_type": "code",
   "execution_count": 56,
   "id": "92dee566-83ef-4b87-a892-fbbe33082acb",
   "metadata": {},
   "outputs": [
    {
     "ename": "ValueError",
     "evalue": "operands could not be broadcast together with shapes (3,5) (5,3) ",
     "output_type": "error",
     "traceback": [
      "\u001b[0;31m---------------------------------------------------------------------------\u001b[0m",
      "\u001b[0;31mValueError\u001b[0m                                Traceback (most recent call last)",
      "Cell \u001b[0;32mIn[56], line 2\u001b[0m\n\u001b[1;32m      1\u001b[0m \u001b[38;5;66;03m# Try add the array of ones and the other most recent array together\u001b[39;00m\n\u001b[0;32m----> 2\u001b[0m ones_arr \u001b[38;5;241m+\u001b[39m a5\n",
      "\u001b[0;31mValueError\u001b[0m: operands could not be broadcast together with shapes (3,5) (5,3) "
     ]
    }
   ],
   "source": [
    "# Try add the array of ones and the other most recent array together\n",
    "ones_arr + a5  # will throw a shape error"
   ]
  },
  {
   "cell_type": "code",
   "execution_count": 57,
   "id": "c81b79a1-ae55-44e9-b017-565b49fd9439",
   "metadata": {},
   "outputs": [],
   "source": [
    "# How to fix the above error \n",
    "# by reshaping or using transpose "
   ]
  },
  {
   "cell_type": "code",
   "execution_count": 58,
   "id": "bd964ab2-d8d1-4aa5-addb-33de5786c6ff",
   "metadata": {},
   "outputs": [
    {
     "data": {
      "text/plain": [
       "array([[1., 1., 1., 1., 1.],\n",
       "       [1., 1., 1., 1., 1.],\n",
       "       [1., 1., 1., 1., 1.]])"
      ]
     },
     "execution_count": 58,
     "metadata": {},
     "output_type": "execute_result"
    }
   ],
   "source": [
    "# Create another array of ones of shape (3, 5)\n",
    "a6 = np.ones((3,5))\n",
    "a6"
   ]
  },
  {
   "cell_type": "code",
   "execution_count": 60,
   "id": "0dc37f70-79fd-40ba-8510-8b1a28b7a533",
   "metadata": {},
   "outputs": [
    {
     "data": {
      "text/plain": [
       "array([[ 6.,  0., -1.,  5.,  5.],\n",
       "       [ 6.,  3.,  1.,  6.,  4.],\n",
       "       [ 1., -1.,  1.,  3.,  1.]])"
      ]
     },
     "execution_count": 60,
     "metadata": {},
     "output_type": "execute_result"
    }
   ],
   "source": [
    "# Subtract the new array of ones from the other most recent array\n",
    "random_arr - a6"
   ]
  },
  {
   "cell_type": "code",
   "execution_count": 61,
   "id": "ad4f2ff9-ab9a-4168-bf73-0ad36d85ddd9",
   "metadata": {},
   "outputs": [
    {
     "data": {
      "text/plain": [
       "array([[7., 1., 0., 6., 6.],\n",
       "       [7., 4., 2., 7., 5.],\n",
       "       [2., 0., 2., 4., 2.]])"
      ]
     },
     "execution_count": 61,
     "metadata": {},
     "output_type": "execute_result"
    }
   ],
   "source": [
    "# Multiply the ones array with the latest array\n",
    "random_arr  * a6"
   ]
  },
  {
   "cell_type": "code",
   "execution_count": 62,
   "id": "7e0137e9-42f3-46be-97ea-7dc25c702909",
   "metadata": {},
   "outputs": [
    {
     "data": {
      "text/plain": [
       "4.5"
      ]
     },
     "execution_count": 62,
     "metadata": {},
     "output_type": "execute_result"
    }
   ],
   "source": [
    "# create an array and find the mean \n",
    "array1 = np.array([[2,3,4],[4,6,8]])\n",
    "np.mean(array1)"
   ]
  },
  {
   "cell_type": "code",
   "execution_count": 68,
   "id": "ff30b0f7-4a7d-4615-b659-0d94ae144f00",
   "metadata": {},
   "outputs": [
    {
     "data": {
      "text/plain": [
       "5"
      ]
     },
     "execution_count": 68,
     "metadata": {},
     "output_type": "execute_result"
    }
   ],
   "source": [
    "# find the max of array1\n",
    "np.max(array1)\n",
    "# find the index of the maximum value \n",
    "np.argmax(array1)"
   ]
  },
  {
   "cell_type": "code",
   "execution_count": 67,
   "id": "cb38cd06-2b9b-4aca-96d8-842aeafb0c06",
   "metadata": {},
   "outputs": [
    {
     "data": {
      "text/plain": [
       "0"
      ]
     },
     "execution_count": 67,
     "metadata": {},
     "output_type": "execute_result"
    }
   ],
   "source": [
    "# find the min\n",
    "np.min(array1)\n",
    "# find the index of the minimum value \n",
    "np.argmin(array1)"
   ]
  },
  {
   "cell_type": "code",
   "execution_count": 69,
   "id": "6f71539b-3c30-4450-95b0-1a5333e867d6",
   "metadata": {},
   "outputs": [
    {
     "data": {
      "text/plain": [
       "1.9790570145063195"
      ]
     },
     "execution_count": 69,
     "metadata": {},
     "output_type": "execute_result"
    }
   ],
   "source": [
    "# find the standard deviation\n",
    "np.std(array1)"
   ]
  },
  {
   "cell_type": "code",
   "execution_count": 70,
   "id": "f378283e-75e1-4103-9831-59573ac45dbd",
   "metadata": {},
   "outputs": [
    {
     "data": {
      "text/plain": [
       "3.9166666666666665"
      ]
     },
     "execution_count": 70,
     "metadata": {},
     "output_type": "execute_result"
    }
   ],
   "source": [
    "# find the variance \n",
    "np.var(array1)"
   ]
  },
  {
   "cell_type": "markdown",
   "id": "e209203c-a463-4941-81f3-05d682508518",
   "metadata": {},
   "source": [
    "Reshape and Transpose"
   ]
  },
  {
   "cell_type": "code",
   "execution_count": 71,
   "id": "b2e3b106-7feb-48c6-8103-b08d77b04f7c",
   "metadata": {},
   "outputs": [
    {
     "data": {
      "text/plain": [
       "(2, 3)"
      ]
     },
     "execution_count": 71,
     "metadata": {},
     "output_type": "execute_result"
    }
   ],
   "source": [
    "array1.shape"
   ]
  },
  {
   "cell_type": "code",
   "execution_count": 73,
   "id": "8f2f6037-523f-4f9a-8a65-ab6023cf8011",
   "metadata": {},
   "outputs": [
    {
     "data": {
      "text/plain": [
       "array([[[2],\n",
       "        [3],\n",
       "        [4]],\n",
       "\n",
       "       [[4],\n",
       "        [6],\n",
       "        [8]]])"
      ]
     },
     "execution_count": 73,
     "metadata": {},
     "output_type": "execute_result"
    }
   ],
   "source": [
    "array1.reshape(2,3,1)"
   ]
  },
  {
   "cell_type": "code",
   "execution_count": 76,
   "id": "0bb413b4-5015-4dce-b352-307e8f24f8e9",
   "metadata": {},
   "outputs": [],
   "source": [
    "array_transpose = array1.transpose()"
   ]
  },
  {
   "cell_type": "code",
   "execution_count": 78,
   "id": "4ad18958-9087-4a6e-aa2a-2da2239a6609",
   "metadata": {},
   "outputs": [
    {
     "data": {
      "text/plain": [
       "(3, 2)"
      ]
     },
     "execution_count": 78,
     "metadata": {},
     "output_type": "execute_result"
    }
   ],
   "source": [
    "array_transpose.shape"
   ]
  },
  {
   "cell_type": "markdown",
   "id": "a2542c45-c1af-4c21-8522-7f2e45666465",
   "metadata": {},
   "source": [
    "Dot product"
   ]
  },
  {
   "cell_type": "code",
   "execution_count": 79,
   "id": "79955faa-6db8-416a-9e3e-75e4015c1b42",
   "metadata": {},
   "outputs": [],
   "source": [
    "# Create two arrays of random integers between 0 to 10\n",
    "# one of size (3, 3) the other of size (3, 2)\n",
    "mat1 = np.random.randint(10, size=(3, 3))\n",
    "mat2 = np.random.randint(10, size=(3, 2))"
   ]
  },
  {
   "cell_type": "code",
   "execution_count": 80,
   "id": "d3c161a5-9781-4573-877c-9d65003e13e3",
   "metadata": {},
   "outputs": [
    {
     "data": {
      "text/plain": [
       "array([[48, 66],\n",
       "       [86, 66],\n",
       "       [89, 39]])"
      ]
     },
     "execution_count": 80,
     "metadata": {},
     "output_type": "execute_result"
    }
   ],
   "source": [
    "np.dot(mat1, mat2)"
   ]
  },
  {
   "cell_type": "code",
   "execution_count": 81,
   "id": "d5ee65f1-539b-4094-bc43-be6f27e2d9c6",
   "metadata": {},
   "outputs": [],
   "source": [
    "# Create two arrays of random integers between 0 to 10\n",
    "# both of size (4, 3)\n",
    "mat3 = np.random.randint(10, size=(4, 3))\n",
    "mat4 = np.random.randint(10, size=(4, 3))"
   ]
  },
  {
   "cell_type": "code",
   "execution_count": 82,
   "id": "10324f7e-76b4-408b-8636-7dd8494a1eec",
   "metadata": {},
   "outputs": [
    {
     "ename": "ValueError",
     "evalue": "shapes (4,3) and (4,3) not aligned: 3 (dim 1) != 4 (dim 0)",
     "output_type": "error",
     "traceback": [
      "\u001b[0;31m---------------------------------------------------------------------------\u001b[0m",
      "\u001b[0;31mValueError\u001b[0m                                Traceback (most recent call last)",
      "Cell \u001b[0;32mIn[82], line 2\u001b[0m\n\u001b[1;32m      1\u001b[0m \u001b[38;5;66;03m# Perform a dot product on the two newest arrays you created\u001b[39;00m\n\u001b[0;32m----> 2\u001b[0m np\u001b[38;5;241m.\u001b[39mdot(mat3, mat4)\n",
      "\u001b[0;31mValueError\u001b[0m: shapes (4,3) and (4,3) not aligned: 3 (dim 1) != 4 (dim 0)"
     ]
    }
   ],
   "source": [
    "# Perform a dot product on the two newest arrays you created\n",
    "np.dot(mat3, mat4)"
   ]
  },
  {
   "cell_type": "code",
   "execution_count": 85,
   "id": "1a423b06-59e4-4c27-b3b2-f27304b81946",
   "metadata": {},
   "outputs": [
    {
     "data": {
      "text/plain": [
       "array([[ 96,  48, 105,  60],\n",
       "       [ 58,   8,  39,  39],\n",
       "       [142,  32, 128,  86],\n",
       "       [108,  72, 121,  73]])"
      ]
     },
     "execution_count": 85,
     "metadata": {},
     "output_type": "execute_result"
    }
   ],
   "source": [
    "# how to fix the above error \n",
    "np.dot(mat3, mat4.T)"
   ]
  },
  {
   "cell_type": "markdown",
   "id": "358ac7ee-d987-4c75-b332-36a417521eb0",
   "metadata": {},
   "source": [
    "Turning an image into a numpy array"
   ]
  },
  {
   "cell_type": "code",
   "execution_count": 2,
   "id": "ec3c2edf-beff-46ff-a057-5b7c3adad6b7",
   "metadata": {},
   "outputs": [
    {
     "name": "stdout",
     "output_type": "stream",
     "text": [
      "<class 'numpy.ndarray'>\n"
     ]
    }
   ],
   "source": [
    "from matplotlib.image import imread\n",
    "chicken = imread('chicken_wings.jpeg')\n",
    "print(type(chicken))"
   ]
  },
  {
   "cell_type": "code",
   "execution_count": 3,
   "id": "8defb129-1cac-4212-abc8-d38157f9bf7e",
   "metadata": {},
   "outputs": [
    {
     "data": {
      "text/plain": [
       "array([[[140, 139, 145],\n",
       "        [144, 143, 149],\n",
       "        [153, 152, 158],\n",
       "        ...,\n",
       "        [243, 243, 243],\n",
       "        [242, 242, 242],\n",
       "        [240, 240, 240]],\n",
       "\n",
       "       [[129, 128, 134],\n",
       "        [135, 134, 140],\n",
       "        [146, 145, 151],\n",
       "        ...,\n",
       "        [245, 245, 237],\n",
       "        [243, 243, 235],\n",
       "        [241, 241, 233]],\n",
       "\n",
       "       [[138, 137, 143],\n",
       "        [144, 143, 149],\n",
       "        [152, 151, 157],\n",
       "        ...,\n",
       "        [251, 250, 229],\n",
       "        [248, 247, 226],\n",
       "        [245, 244, 223]],\n",
       "\n",
       "       ...,\n",
       "\n",
       "       [[142, 141, 149],\n",
       "        [146, 145, 151],\n",
       "        [143, 142, 148],\n",
       "        ...,\n",
       "        [ 44,  41,  34],\n",
       "        [ 44,  41,  34],\n",
       "        [ 43,  40,  33]],\n",
       "\n",
       "       [[144, 143, 149],\n",
       "        [141, 140, 146],\n",
       "        [125, 124, 130],\n",
       "        ...,\n",
       "        [ 47,  48,  43],\n",
       "        [ 38,  39,  34],\n",
       "        [ 29,  30,  25]],\n",
       "\n",
       "       [[152, 151, 157],\n",
       "        [148, 147, 153],\n",
       "        [130, 129, 135],\n",
       "        ...,\n",
       "        [ 46,  47,  42],\n",
       "        [ 38,  39,  34],\n",
       "        [ 29,  30,  25]]], dtype=uint8)"
      ]
     },
     "execution_count": 3,
     "metadata": {},
     "output_type": "execute_result"
    }
   ],
   "source": [
    "chicken"
   ]
  },
  {
   "cell_type": "code",
   "execution_count": 5,
   "id": "d0e96446-3669-41e5-a69b-7d7da72cab3c",
   "metadata": {},
   "outputs": [
    {
     "data": {
      "text/plain": [
       "(194, 259, 3)"
      ]
     },
     "execution_count": 5,
     "metadata": {},
     "output_type": "execute_result"
    }
   ],
   "source": [
    "chicken.shape # height, width, color channels"
   ]
  },
  {
   "cell_type": "code",
   "execution_count": null,
   "id": "02fd91cf-a81a-4fc1-a1ad-f98733ce541c",
   "metadata": {},
   "outputs": [],
   "source": []
  }
 ],
 "metadata": {
  "kernelspec": {
   "display_name": "Python 3 (ipykernel)",
   "language": "python",
   "name": "python3"
  },
  "language_info": {
   "codemirror_mode": {
    "name": "ipython",
    "version": 3
   },
   "file_extension": ".py",
   "mimetype": "text/x-python",
   "name": "python",
   "nbconvert_exporter": "python",
   "pygments_lexer": "ipython3",
   "version": "3.12.4"
  }
 },
 "nbformat": 4,
 "nbformat_minor": 5
}
